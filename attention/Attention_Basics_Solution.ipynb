{
  "nbformat": 4,
  "nbformat_minor": 0,
  "metadata": {
    "anaconda-cloud": {},
    "kernelspec": {
      "display_name": "Python 3",
      "language": "python",
      "name": "python3"
    },
    "language_info": {
      "codemirror_mode": {
        "name": "ipython",
        "version": 3
      },
      "file_extension": ".py",
      "mimetype": "text/x-python",
      "name": "python",
      "nbconvert_exporter": "python",
      "pygments_lexer": "ipython3",
      "version": "3.6.3"
    },
    "colab": {
      "name": "Attention_Basics_Solution.ipynb",
      "version": "0.3.2",
      "provenance": [],
      "include_colab_link": true
    }
  },
  "cells": [
    {
      "cell_type": "markdown",
      "metadata": {
        "id": "view-in-github",
        "colab_type": "text"
      },
      "source": [
        "<a href=\"https://colab.research.google.com/github/alekz7/deeplearning/blob/master/attention/Attention_Basics_Solution.ipynb\" target=\"_parent\"><img src=\"https://colab.research.google.com/assets/colab-badge.svg\" alt=\"Open In Colab\"/></a>"
      ]
    },
    {
      "cell_type": "markdown",
      "metadata": {
        "id": "tmOTJ5xYP_E5",
        "colab_type": "text"
      },
      "source": [
        "# [SOLUTION] Attention Basics\n",
        "In this notebook, we look at how attention is implemented. We will focus on implementing attention in isolation from a larger model. That's because when implementing attention in a real-world model, a lot of the focus goes into piping the data and juggling the various vectors rather than the concepts of attention themselves.\n",
        "\n",
        "We will implement attention scoring as well as calculating an attention context vector.\n",
        "\n",
        "## Attention Scoring\n",
        "### Inputs to the scoring function\n",
        "Let's start by looking at the inputs we'll give to the scoring function. We will assume we're in the first step in the decoding phase. The first input to the scoring function is the hidden state of decoder (assuming a toy RNN with three hidden nodes -- not usable in real life, but easier to illustrate):"
      ]
    },
    {
      "cell_type": "code",
      "metadata": {
        "id": "QhZS3UiqP_E8",
        "colab_type": "code",
        "colab": {}
      },
      "source": [
        "dec_hidden_state = [5,1,20]"
      ],
      "execution_count": 0,
      "outputs": []
    },
    {
      "cell_type": "markdown",
      "metadata": {
        "id": "8XoOZyiAP_FC",
        "colab_type": "text"
      },
      "source": [
        "Let's visualize this vector:"
      ]
    },
    {
      "cell_type": "code",
      "metadata": {
        "id": "-W-bysQ5P_FD",
        "colab_type": "code",
        "colab": {
          "base_uri": "https://localhost:8080/",
          "height": 314
        },
        "outputId": "1714049e-8f7b-458c-8466-ac6033b75363"
      },
      "source": [
        "%matplotlib inline\n",
        "import numpy as np\n",
        "import matplotlib.pyplot as plt\n",
        "import seaborn as sns\n",
        "\n",
        "# Let's visualize our decoder hidden state\n",
        "plt.figure(figsize=(1.5, 4.5))\n",
        "sns.heatmap(np.transpose(np.matrix(dec_hidden_state)), annot=True, cmap=sns.light_palette(\"purple\", as_cmap=True), linewidths=1)"
      ],
      "execution_count": 2,
      "outputs": [
        {
          "output_type": "execute_result",
          "data": {
            "text/plain": [
              "<matplotlib.axes._subplots.AxesSubplot at 0x7f32b6ae5128>"
            ]
          },
          "metadata": {
            "tags": []
          },
          "execution_count": 2
        },
        {
          "output_type": "display_data",
          "data": {
            "image/png": "[encoded data removed]",
            "text/plain": [
              "<Figure size 108x324 with 2 Axes>"
            ]
          },
          "metadata": {
            "tags": []
          }
        }
      ]
    },
    {
      "cell_type": "markdown",
      "metadata": {
        "id": "XmgJsPF7P_FO",
        "colab_type": "text"
      },
      "source": [
        "Our first scoring function will score a single annotation (encoder hidden state), which looks like this:"
      ]
    },
    {
      "cell_type": "code",
      "metadata": {
        "id": "oo6Tg--FP_FP",
        "colab_type": "code",
        "colab": {}
      },
      "source": [
        "annotation = [3,12,45] #e.g. Encoder hidden state"
      ],
      "execution_count": 0,
      "outputs": []
    },
    {
      "cell_type": "code",
      "metadata": {
        "id": "QARK7XHwP_FU",
        "colab_type": "code",
        "colab": {
          "base_uri": "https://localhost:8080/",
          "height": 313
        },
        "outputId": "3246b36f-a6d4-474e-beaf-b55b335e07b0"
      },
      "source": [
        "# Let's visualize the single annotation\n",
        "plt.figure(figsize=(1.5, 4.5))\n",
        "sns.heatmap(np.transpose(np.matrix(annotation)), annot=True, cmap=sns.light_palette(\"orange\", as_cmap=True), linewidths=1)"
      ],
      "execution_count": 4,
      "outputs": [
        {
          "output_type": "execute_result",
          "data": {
            "text/plain": [
              "<matplotlib.axes._subplots.AxesSubplot at 0x7f329c0fa4e0>"
            ]
          },
          "metadata": {
            "tags": []
          },
          "execution_count": 4
        },
        {
          "output_type": "display_data",
          "data": {
            "image/png": "[encoded data removed]",
            "text/plain": [
              "<Figure size 108x324 with 2 Axes>"
            ]
          },
          "metadata": {
            "tags": []
          }
        }
      ]
    },
    {
      "cell_type": "markdown",
      "metadata": {
        "id": "Xk4jv4hVP_Fb",
        "colab_type": "text"
      },
      "source": [
        "### IMPLEMENT: Scoring a Single Annotation\n",
        "Let's calculate the dot product of a single annotation. NumPy's [dot()](https://docs.scipy.org/doc/numpy/reference/generated/numpy.dot.html) is a good candidate for this operation"
      ]
    },
    {
      "cell_type": "code",
      "metadata": {
        "id": "JmO1NYbOP_Fc",
        "colab_type": "code",
        "colab": {
          "base_uri": "https://localhost:8080/",
          "height": 34
        },
        "outputId": "7a081ff6-e5a1-45a0-ae09-c41f64e9f6b3"
      },
      "source": [
        "def single_dot_attention_score(dec_hidden_state, enc_hidden_state):\n",
        "    # TODO: return the dot product of the two vectors\n",
        "    return np.dot(dec_hidden_state, enc_hidden_state)\n",
        "    \n",
        "single_dot_attention_score(dec_hidden_state, annotation)"
      ],
      "execution_count": 5,
      "outputs": [
        {
          "output_type": "execute_result",
          "data": {
            "text/plain": [
              "927"
            ]
          },
          "metadata": {
            "tags": []
          },
          "execution_count": 5
        }
      ]
    },
    {
      "cell_type": "markdown",
      "metadata": {
        "id": "FsJNmahUP_Fi",
        "colab_type": "text"
      },
      "source": [
        "\n",
        "### Annotations Matrix\n",
        "Let's now look at scoring all the annotations at once. To do that, here's our annotation matrix:"
      ]
    },
    {
      "cell_type": "code",
      "metadata": {
        "id": "Qv-K79qoP_Fk",
        "colab_type": "code",
        "colab": {}
      },
      "source": [
        "annotations = np.transpose([[3,12,45], [59,2,5], [1,43,5], [4,3,45.3]])"
      ],
      "execution_count": 0,
      "outputs": []
    },
    {
      "cell_type": "markdown",
      "metadata": {
        "id": "3GZU8srgP_Fo",
        "colab_type": "text"
      },
      "source": [
        "And it can be visualized like this (each column is a hidden state of an encoder time step):"
      ]
    },
    {
      "cell_type": "code",
      "metadata": {
        "id": "FGQAOXKNP_Fq",
        "colab_type": "code",
        "colab": {
          "base_uri": "https://localhost:8080/",
          "height": 269
        },
        "outputId": "f8644796-4144-4730-9c5b-988cadbff4a9"
      },
      "source": [
        "# Let's visualize our annotation (each column is an annotation)\n",
        "ax = sns.heatmap(annotations, annot=True, cmap=sns.light_palette(\"orange\", as_cmap=True), linewidths=1)"
      ],
      "execution_count": 7,
      "outputs": [
        {
          "output_type": "display_data",
          "data": {
            "image/png": "[encoded data removed]",
            "text/plain": [
              "<Figure size 432x288 with 2 Axes>"
            ]
          },
          "metadata": {
            "tags": []
          }
        }
      ]
    },
    {
      "cell_type": "markdown",
      "metadata": {
        "id": "aI9ZP8_tP_Fy",
        "colab_type": "text"
      },
      "source": [
        "### IMPLEMENT: Scoring All Annotations at Once\n",
        "Let's calculate the scores of all the annotations in one step using matrix multiplication. Let's continue to us the dot scoring method\n",
        "\n",
        "<img src=\"https://github.com/alekz7/deeplearning/blob/master/attention/images/scoring_functions.png?raw=1\" />\n",
        "\n",
        "To do that, we'll have to transpose `dec_hidden_state` and [matrix multiply](https://docs.scipy.org/doc/numpy/reference/generated/numpy.matmul.html) it with `annotations`."
      ]
    },
    {
      "cell_type": "code",
      "metadata": {
        "id": "UpHc1jvgP_F0",
        "colab_type": "code",
        "colab": {
          "base_uri": "https://localhost:8080/",
          "height": 34
        },
        "outputId": "ecb38a54-bb93-476c-d2dc-36f0e2c77dcc"
      },
      "source": [
        "def dot_attention_score(dec_hidden_state, annotations):\n",
        "    # TODO: return the product of dec_hidden_state transpose and enc_hidden_states\n",
        "    return np.matmul(np.transpose(dec_hidden_state), annotations)\n",
        "    \n",
        "attention_weights_raw = dot_attention_score(dec_hidden_state, annotations)\n",
        "attention_weights_raw"
      ],
      "execution_count": 8,
      "outputs": [
        {
          "output_type": "execute_result",
          "data": {
            "text/plain": [
              "array([927., 397., 148., 929.])"
            ]
          },
          "metadata": {
            "tags": []
          },
          "execution_count": 8
        }
      ]
    },
    {
      "cell_type": "markdown",
      "metadata": {
        "id": "fj3SjscjP_F8",
        "colab_type": "text"
      },
      "source": [
        "Looking at these scores, can you guess which of the four vectors will get the most attention from the decoder at this time step?\n",
        "\n",
        "## Softmax\n",
        "Now that we have our scores, let's apply softmax:\n",
        "<img src=\"https://github.com/alekz7/deeplearning/blob/master/attention/images/softmax.png?raw=1\" />"
      ]
    },
    {
      "cell_type": "code",
      "metadata": {
        "id": "LF557eUQP_F9",
        "colab_type": "code",
        "colab": {
          "base_uri": "https://localhost:8080/",
          "height": 51
        },
        "outputId": "651df9a9-9fa1-4eef-d8c7-e3f1d7940765"
      },
      "source": [
        "def softmax(x):\n",
        "    x = np.array(x, dtype=np.float128)\n",
        "    e_x = np.exp(x)\n",
        "    return e_x / e_x.sum(axis=0) \n",
        "\n",
        "attention_weights = softmax(attention_weights_raw)\n",
        "attention_weights"
      ],
      "execution_count": 9,
      "outputs": [
        {
          "output_type": "execute_result",
          "data": {
            "text/plain": [
              "array([1.19202922e-001, 7.94715151e-232, 5.76614420e-340, 8.80797078e-001],\n",
              "      dtype=float128)"
            ]
          },
          "metadata": {
            "tags": []
          },
          "execution_count": 9
        }
      ]
    },
    {
      "cell_type": "markdown",
      "metadata": {
        "id": "ZtgOVsbOP_GE",
        "colab_type": "text"
      },
      "source": [
        "Even when knowing which annotation will get the most focus, it's interesting to see how drastic softmax makes the end score become. The first and last annotation had the respective scores of 927 and 929. But after softmax, the attention they'll get is 0.119 and 0.880 respectively.\n",
        "\n",
        "# Applying the scores back on the annotations\n",
        "Now that we have our scores, let's multiply each annotation by its score to proceed closer to the attention context vector. This is the multiplication part of this formula (we'll tackle the summation part in the latter cells)\n",
        "\n",
        "<img src=\"https://github.com/alekz7/deeplearning/blob/master/attention/images/Context_vector.png?raw=1\" />"
      ]
    },
    {
      "cell_type": "code",
      "metadata": {
        "id": "b5wc5CdxP_GF",
        "colab_type": "code",
        "colab": {
          "base_uri": "https://localhost:8080/",
          "height": 119
        },
        "outputId": "eec9a329-34ae-40a2-c04d-aaaaf3bd8832"
      },
      "source": [
        "def apply_attention_scores(attention_weights, annotations):\n",
        "    # TODO: Multiple the annotations by their weights\n",
        "    return attention_weights * annotations\n",
        "\n",
        "applied_attention = apply_attention_scores(attention_weights, annotations)\n",
        "applied_attention"
      ],
      "execution_count": 10,
      "outputs": [
        {
          "output_type": "execute_result",
          "data": {
            "text/plain": [
              "array([[3.57608766e-001, 4.68881939e-230, 5.76614420e-340,\n",
              "        3.52318831e+000],\n",
              "       [1.43043506e+000, 1.58943030e-231, 2.47944200e-338,\n",
              "        2.64239123e+000],\n",
              "       [5.36413149e+000, 3.97357575e-231, 2.88307210e-339,\n",
              "        3.99001076e+001]], dtype=float128)"
            ]
          },
          "metadata": {
            "tags": []
          },
          "execution_count": 10
        }
      ]
    },
    {
      "cell_type": "markdown",
      "metadata": {
        "id": "PQAQRyAZP_GL",
        "colab_type": "text"
      },
      "source": [
        "Let's visualize how the context vector looks now that we've applied the attention scores back on it:"
      ]
    },
    {
      "cell_type": "code",
      "metadata": {
        "id": "ddsnzuA-P_GO",
        "colab_type": "code",
        "colab": {
          "base_uri": "https://localhost:8080/",
          "height": 269
        },
        "outputId": "0e4a8e9e-4150-45a6-e7c8-78d07024b42b"
      },
      "source": [
        "# Let's visualize our annotations after applying attention to them\n",
        "ax = sns.heatmap(applied_attention, annot=True, cmap=sns.light_palette(\"orange\", as_cmap=True), linewidths=1)"
      ],
      "execution_count": 11,
      "outputs": [
        {
          "output_type": "display_data",
          "data": {
            "image/png": "[encoded data removed]",
            "text/plain": [
              "<Figure size 432x288 with 2 Axes>"
            ]
          },
          "metadata": {
            "tags": []
          }
        }
      ]
    },
    {
      "cell_type": "markdown",
      "metadata": {
        "id": "OyNXlGQzP_GW",
        "colab_type": "text"
      },
      "source": [
        "Contrast this with the raw annotations visualized earlier in the notebook, and we can see that the second and third annotations (columns) have been nearly wiped out. The first annotation maintains some of its value, and the fourth annotation is the most pronounced.\n",
        "\n",
        "# Calculating the Attention Context Vector\n",
        "All that remains to produce our attention context vector now is to sum up the four columns to produce a single attention context vector\n"
      ]
    },
    {
      "cell_type": "code",
      "metadata": {
        "id": "c9uax421P_GX",
        "colab_type": "code",
        "colab": {
          "base_uri": "https://localhost:8080/",
          "height": 34
        },
        "outputId": "ea99eff4-28d7-444a-e045-1af11abaaed8"
      },
      "source": [
        "def calculate_attention_vector(applied_attention):\n",
        "    return np.sum(applied_attention, axis=1)\n",
        "\n",
        "attention_vector = calculate_attention_vector(applied_attention)\n",
        "attention_vector"
      ],
      "execution_count": 12,
      "outputs": [
        {
          "output_type": "execute_result",
          "data": {
            "text/plain": [
              "array([ 3.88079708,  4.0728263 , 45.26423912], dtype=float128)"
            ]
          },
          "metadata": {
            "tags": []
          },
          "execution_count": 12
        }
      ]
    },
    {
      "cell_type": "code",
      "metadata": {
        "scrolled": false,
        "id": "aCGXVhI6P_Gg",
        "colab_type": "code",
        "colab": {
          "base_uri": "https://localhost:8080/",
          "height": 313
        },
        "outputId": "213a323c-4b3f-4640-de5a-b2fc93722e11"
      },
      "source": [
        "# Let's visualize the attention context vector\n",
        "plt.figure(figsize=(1.5, 4.5))\n",
        "sns.heatmap(np.transpose(np.matrix(attention_vector)), annot=True, cmap=sns.light_palette(\"Blue\", as_cmap=True), linewidths=1)"
      ],
      "execution_count": 13,
      "outputs": [
        {
          "output_type": "execute_result",
          "data": {
            "text/plain": [
              "<matplotlib.axes._subplots.AxesSubplot at 0x7f3299702ac8>"
            ]
          },
          "metadata": {
            "tags": []
          },
          "execution_count": 13
        },
        {
          "output_type": "display_data",
          "data": {
            "image/png": "[encoded data removed]",
            "text/plain": [
              "<Figure size 108x324 with 2 Axes>"
            ]
          },
          "metadata": {
            "tags": []
          }
        }
      ]
    },
    {
      "cell_type": "markdown",
      "metadata": {
        "id": "o_FDJcttP_Go",
        "colab_type": "text"
      },
      "source": [
        "Now that we have the context vector, we can concatenate it with the hidden state and pass it through a hidden layer to produce the the result of this decoding time step."
      ]
    }
  ]
}