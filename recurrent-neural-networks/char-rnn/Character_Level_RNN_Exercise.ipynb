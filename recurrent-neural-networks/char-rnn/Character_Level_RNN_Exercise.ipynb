{
  "nbformat": 4,
  "nbformat_minor": 0,
  "metadata": {
    "kernelspec": {
      "name": "python3",
      "display_name": "Python 3"
    },
    "language_info": {
      "codemirror_mode": {
        "name": "ipython",
        "version": 3
      },
      "file_extension": ".py",
      "mimetype": "text/x-python",
      "name": "python",
      "nbconvert_exporter": "python",
      "pygments_lexer": "ipython3",
      "version": "3.6.4"
    },
    "colab": {
      "name": "Character_Level_RNN_Exercise.ipynb",
      "version": "0.3.2",
      "provenance": [],
      "toc_visible": true,
      "include_colab_link": true
    },
    "accelerator": "GPU"
  },
  "cells": [
    {
      "cell_type": "markdown",
      "metadata": {
        "id": "view-in-github",
        "colab_type": "text"
      },
      "source": [
        "<a href=\"https://colab.research.google.com/github/alekz7/deeplearning/blob/master/recurrent-neural-networks/char-rnn/Character_Level_RNN_Exercise.ipynb\" target=\"_parent\"><img src=\"https://colab.research.google.com/assets/colab-badge.svg\" alt=\"Open In Colab\"/></a>"
      ]
    },
    {
      "cell_type": "markdown",
      "metadata": {
        "id": "j2ibuNuhsFCR",
        "colab_type": "text"
      },
      "source": [
        "# Character-Level LSTM in PyTorch\n",
        "\n",
        "In this notebook, I'll construct a character-level LSTM with PyTorch. The network will train character by character on some text, then generate new text character by character. As an example, I will train on Anna Karenina. **This model will be able to generate new text based on the text from the book!**\n",
        "\n",
        "This network is based off of Andrej Karpathy's [post on RNNs](http://karpathy.github.io/2015/05/21/rnn-effectiveness/) and [implementation in Torch](https://github.com/karpathy/char-rnn). Below is the general architecture of the character-wise RNN.\n",
        "\n",
        "<img src=\"https://github.com/alekz7/deeplearning/blob/master/recurrent-neural-networks/char-rnn/assets/charseq.jpeg?raw=1\" width=\"500\">"
      ]
    },
    {
      "cell_type": "markdown",
      "metadata": {
        "id": "MG6CvVIwsFCV",
        "colab_type": "text"
      },
      "source": [
        "First let's load in our required resources for data loading and model creation."
      ]
    },
    {
      "cell_type": "code",
      "metadata": {
        "id": "rFyW9ZMYsFCc",
        "colab_type": "code",
        "colab": {}
      },
      "source": [
        "import numpy as np\n",
        "import torch\n",
        "from torch import nn\n",
        "import torch.nn.functional as F"
      ],
      "execution_count": 0,
      "outputs": []
    },
    {
      "cell_type": "markdown",
      "metadata": {
        "id": "lph_RU-msFCq",
        "colab_type": "text"
      },
      "source": [
        "## Load in Data\n",
        "\n",
        "Then, we'll load the Anna Karenina text file and convert it into integers for our network to use. "
      ]
    },
    {
      "cell_type": "code",
      "metadata": {
        "id": "F75yeLxjsFCu",
        "colab_type": "code",
        "colab": {}
      },
      "source": [
        "# open text file and read in data as `text`\n",
        "with open('anna.txt', 'r') as f:\n",
        "    text = f.read()"
      ],
      "execution_count": 0,
      "outputs": []
    },
    {
      "cell_type": "markdown",
      "metadata": {
        "id": "I90YF6zlsFC8",
        "colab_type": "text"
      },
      "source": [
        "Let's check out the first 100 characters, make sure everything is peachy. According to the [American Book Review](http://americanbookreview.org/100bestlines.asp), this is the 6th best first line of a book ever."
      ]
    },
    {
      "cell_type": "code",
      "metadata": {
        "id": "p8hC5_wCsFDB",
        "colab_type": "code",
        "colab": {
          "base_uri": "https://localhost:8080/",
          "height": 54
        },
        "outputId": "e827c92f-a899-4139-823e-5e5aa936f4fc"
      },
      "source": [
        "text[:100]"
      ],
      "execution_count": 7,
      "outputs": [
        {
          "output_type": "execute_result",
          "data": {
            "text/plain": [
              "'Chapter 1\\n\\n\\nHappy families are all alike; every unhappy family is unhappy in its own\\nway.\\n\\nEverythin'"
            ]
          },
          "metadata": {
            "tags": []
          },
          "execution_count": 7
        }
      ]
    },
    {
      "cell_type": "markdown",
      "metadata": {
        "id": "jQxRGIrysFDh",
        "colab_type": "text"
      },
      "source": [
        "### Tokenization\n",
        "\n",
        "In the cells, below, I'm creating a couple **dictionaries** to convert the characters to and from integers. Encoding the characters as integers makes it easier to use as input in the network."
      ]
    },
    {
      "cell_type": "code",
      "metadata": {
        "id": "HdVVTP8nsFDj",
        "colab_type": "code",
        "colab": {}
      },
      "source": [
        "# encode the text and map each character to an integer and vice versa\n",
        "\n",
        "# we create two dictionaries:\n",
        "# 1. int2char, which maps integers to characters\n",
        "# 2. char2int, which maps characters to unique integers\n",
        "chars = tuple(set(text))\n",
        "int2char = dict(enumerate(chars))\n",
        "char2int = {ch: ii for ii, ch in int2char.items()}\n",
        "\n",
        "# encode the text\n",
        "encoded = np.array([char2int[ch] for ch in text])"
      ],
      "execution_count": 0,
      "outputs": []
    },
    {
      "cell_type": "markdown",
      "metadata": {
        "id": "PWLuim0JsFDo",
        "colab_type": "text"
      },
      "source": [
        "And we can see those same characters from above, encoded as integers."
      ]
    },
    {
      "cell_type": "code",
      "metadata": {
        "id": "lQ2fvM-tsFDp",
        "colab_type": "code",
        "colab": {
          "base_uri": "https://localhost:8080/",
          "height": 119
        },
        "outputId": "6e1a3e4b-84f0-4b56-d23f-32239f7ad610"
      },
      "source": [
        "encoded[:100]"
      ],
      "execution_count": 9,
      "outputs": [
        {
          "output_type": "execute_result",
          "data": {
            "text/plain": [
              "array([40, 25, 47, 77, 56, 31, 81, 71, 75, 68, 68, 68, 57, 47, 77, 77, 13,\n",
              "       71, 80, 47,  9, 44, 72, 44, 31, 18, 71, 47, 81, 31, 71, 47, 72, 72,\n",
              "       71, 47, 72, 44, 34, 31, 14, 71, 31, 45, 31, 81, 13, 71, 41, 69, 25,\n",
              "       47, 77, 77, 13, 71, 80, 47,  9, 44, 72, 13, 71, 44, 18, 71, 41, 69,\n",
              "       25, 47, 77, 77, 13, 71, 44, 69, 71, 44, 56, 18, 71, 32, 35, 69, 68,\n",
              "       35, 47, 13, 50, 68, 68, 42, 45, 31, 81, 13, 56, 25, 44, 69])"
            ]
          },
          "metadata": {
            "tags": []
          },
          "execution_count": 9
        }
      ]
    },
    {
      "cell_type": "markdown",
      "metadata": {
        "id": "cqRSl3AAsFDy",
        "colab_type": "text"
      },
      "source": [
        "## Pre-processing the data\n",
        "\n",
        "As you can see in our char-RNN image above, our LSTM expects an input that is **one-hot encoded** meaning that each character is converted into an integer (via our created dictionary) and *then* converted into a column vector where only it's corresponding integer index will have the value of 1 and the rest of the vector will be filled with 0's. Since we're one-hot encoding the data, let's make a function to do that!\n"
      ]
    },
    {
      "cell_type": "code",
      "metadata": {
        "id": "Fxr1kFhcsFD1",
        "colab_type": "code",
        "colab": {}
      },
      "source": [
        "def one_hot_encode(arr, n_labels):\n",
        "    \n",
        "    # Initialize the the encoded array\n",
        "    one_hot = np.zeros((arr.size, n_labels), dtype=np.float32)\n",
        "    \n",
        "    # Fill the appropriate elements with ones\n",
        "    one_hot[np.arange(one_hot.shape[0]), arr.flatten()] = 1.\n",
        "    \n",
        "    # Finally reshape it to get back to the original array\n",
        "    one_hot = one_hot.reshape((*arr.shape, n_labels))\n",
        "    \n",
        "    return one_hot"
      ],
      "execution_count": 0,
      "outputs": []
    },
    {
      "cell_type": "code",
      "metadata": {
        "id": "Ab0qRoE2sFD6",
        "colab_type": "code",
        "colab": {
          "base_uri": "https://localhost:8080/",
          "height": 68
        },
        "outputId": "37476c05-0d0f-410e-8b4b-9eaa0398521c"
      },
      "source": [
        "# check that the function works as expected\n",
        "test_seq = np.array([[3, 5, 1]])\n",
        "one_hot = one_hot_encode(test_seq, 8)\n",
        "\n",
        "print(one_hot)"
      ],
      "execution_count": 11,
      "outputs": [
        {
          "output_type": "stream",
          "text": [
            "[[[0. 0. 0. 1. 0. 0. 0. 0.]\n",
            "  [0. 0. 0. 0. 0. 1. 0. 0.]\n",
            "  [0. 1. 0. 0. 0. 0. 0. 0.]]]\n"
          ],
          "name": "stdout"
        }
      ]
    },
    {
      "cell_type": "markdown",
      "metadata": {
        "id": "cNWh_c32sFEC",
        "colab_type": "text"
      },
      "source": [
        "## Making training mini-batches\n",
        "\n",
        "\n",
        "To train on this data, we also want to create mini-batches for training. Remember that we want our batches to be multiple sequences of some desired number of sequence steps. Considering a simple example, our batches would look like this:\n",
        "\n",
        "<img src=\"https://github.com/alekz7/deeplearning/blob/master/recurrent-neural-networks/char-rnn/assets/sequence_batching@1x.png?raw=1\" width=500px>\n",
        "\n",
        "\n",
        "<br>\n",
        "\n",
        "In this example, we'll take the encoded characters (passed in as the `arr` parameter) and split them into multiple sequences, given by `batch_size`. Each of our sequences will be `seq_length` long.\n",
        "\n",
        "### Creating Batches\n",
        "\n",
        "**1. The first thing we need to do is discard some of the text so we only have completely full mini-batches. **\n",
        "\n",
        "Each batch contains $N \\times M$ characters, where $N$ is the batch size (the number of sequences in a batch) and $M$ is the seq_length or number of time steps in a sequence. Then, to get the total number of batches, $K$, that we can make from the array `arr`, you divide the length of `arr` by the number of characters per batch. Once you know the number of batches, you can get the total number of characters to keep from `arr`, $N * M * K$.\n",
        "\n",
        "**2. After that, we need to split `arr` into $N$ batches. ** \n",
        "\n",
        "You can do this using `arr.reshape(size)` where `size` is a tuple containing the dimensions sizes of the reshaped array. We know we want $N$ sequences in a batch, so let's make that the size of the first dimension. For the second dimension, you can use `-1` as a placeholder in the size, it'll fill up the array with the appropriate data for you. After this, you should have an array that is $N \\times (M * K)$.\n",
        "\n",
        "**3. Now that we have this array, we can iterate through it to get our mini-batches. **\n",
        "\n",
        "The idea is each batch is a $N \\times M$ window on the $N \\times (M * K)$ array. For each subsequent batch, the window moves over by `seq_length`. We also want to create both the input and target arrays. Remember that the targets are just the inputs shifted over by one character. The way I like to do this window is use `range` to take steps of size `n_steps` from $0$ to `arr.shape[1]`, the total number of tokens in each sequence. That way, the integers you get from `range` always point to the start of a batch, and each window is `seq_length` wide.\n",
        "\n",
        "> **TODO:** Write the code for creating batches in the function below. The exercises in this notebook _will not be easy_. I've provided a notebook with solutions alongside this notebook. If you get stuck, checkout the solutions. The most important thing is that you don't copy and paste the code into here, **type out the solution code yourself.**"
      ]
    },
    {
      "cell_type": "code",
      "metadata": {
        "id": "HFZ6iJIWsFEG",
        "colab_type": "code",
        "colab": {}
      },
      "source": [
        "def get_batches(arr, batch_size, seq_length):\n",
        "    '''Create a generator that returns batches of size\n",
        "       batch_size x seq_length from arr.\n",
        "       \n",
        "       Arguments\n",
        "       ---------\n",
        "       arr: Array you want to make batches from\n",
        "       batch_size: Batch size, the number of sequences per batch\n",
        "       seq_length: Number of encoded chars in a sequence\n",
        "    '''\n",
        "    \n",
        "    batch_size_total = batch_size * seq_length\n",
        "    # total number of batches we can make\n",
        "    n_batches = len(arr)//batch_size_total\n",
        "    \n",
        "    # Keep only enough characters to make full batches\n",
        "    arr = arr[:n_batches * batch_size_total]\n",
        "    # Reshape into batch_size rows\n",
        "    arr = arr.reshape((batch_size, -1))\n",
        "    \n",
        "    # iterate through the array, one sequence at a time\n",
        "    for n in range(0, arr.shape[1], seq_length):\n",
        "        # The features\n",
        "        x = arr[:, n:n+seq_length]\n",
        "        # The targets, shifted by one\n",
        "        y = np.zeros_like(x)\n",
        "        try:\n",
        "            y[:, :-1], y[:, -1] = x[:, 1:], arr[:, n+seq_length]\n",
        "        except IndexError:\n",
        "            y[:, :-1], y[:, -1] = x[:, 1:], arr[:, 0]\n",
        "        yield x, y"
      ],
      "execution_count": 0,
      "outputs": []
    },
    {
      "cell_type": "markdown",
      "metadata": {
        "id": "amK1-whIsFEP",
        "colab_type": "text"
      },
      "source": [
        "### Test Your Implementation\n",
        "\n",
        "Now I'll make some data sets and we can check out what's going on as we batch data. Here, as an example, I'm going to use a batch size of 8 and 50 sequence steps."
      ]
    },
    {
      "cell_type": "code",
      "metadata": {
        "id": "Lc3xS68ssFEQ",
        "colab_type": "code",
        "colab": {}
      },
      "source": [
        "batches = get_batches(encoded, 8, 50)\n",
        "x, y = next(batches)"
      ],
      "execution_count": 0,
      "outputs": []
    },
    {
      "cell_type": "code",
      "metadata": {
        "id": "SZYPGd2HsFEV",
        "colab_type": "code",
        "colab": {
          "base_uri": "https://localhost:8080/",
          "height": 340
        },
        "outputId": "21e01bff-02c0-4c8f-d190-b0a15e95b5ac"
      },
      "source": [
        "# printing out the first 10 items in a sequence\n",
        "print('x\\n', x[:10, :10])\n",
        "print('\\ny\\n', y[:10, :10])"
      ],
      "execution_count": 14,
      "outputs": [
        {
          "output_type": "stream",
          "text": [
            "x\n",
            " [[40 25 47 77 56 31 81 71 75 68]\n",
            " [18 32 69 71 56 25 47 56 71 47]\n",
            " [31 69 78 71 32 81 71 47 71 80]\n",
            " [18 71 56 25 31 71  1 25 44 31]\n",
            " [71 18 47 35 71 25 31 81 71 56]\n",
            " [ 1 41 18 18 44 32 69 71 47 69]\n",
            " [71 79 69 69 47 71 25 47 78 71]\n",
            " [33 20 72 32 69 18 34 13 50 71]]\n",
            "\n",
            "y\n",
            " [[25 47 77 56 31 81 71 75 68 68]\n",
            " [32 69 71 56 25 47 56 71 47 56]\n",
            " [69 78 71 32 81 71 47 71 80 32]\n",
            " [71 56 25 31 71  1 25 44 31 80]\n",
            " [18 47 35 71 25 31 81 71 56 31]\n",
            " [41 18 18 44 32 69 71 47 69 78]\n",
            " [79 69 69 47 71 25 47 78 71 18]\n",
            " [20 72 32 69 18 34 13 50 71 37]]\n"
          ],
          "name": "stdout"
        }
      ]
    },
    {
      "cell_type": "markdown",
      "metadata": {
        "id": "vu-P_UwdsFEa",
        "colab_type": "text"
      },
      "source": [
        "If you implemented `get_batches` correctly, the above output should look something like \n",
        "```\n",
        "x\n",
        " [[25  8 60 11 45 27 28 73  1  2]\n",
        " [17  7 20 73 45  8 60 45 73 60]\n",
        " [27 20 80 73  7 28 73 60 73 65]\n",
        " [17 73 45  8 27 73 66  8 46 27]\n",
        " [73 17 60 12 73  8 27 28 73 45]\n",
        " [66 64 17 17 46  7 20 73 60 20]\n",
        " [73 76 20 20 60 73  8 60 80 73]\n",
        " [47 35 43  7 20 17 24 50 37 73]]\n",
        "\n",
        "y\n",
        " [[ 8 60 11 45 27 28 73  1  2  2]\n",
        " [ 7 20 73 45  8 60 45 73 60 45]\n",
        " [20 80 73  7 28 73 60 73 65  7]\n",
        " [73 45  8 27 73 66  8 46 27 65]\n",
        " [17 60 12 73  8 27 28 73 45 27]\n",
        " [64 17 17 46  7 20 73 60 20 80]\n",
        " [76 20 20 60 73  8 60 80 73 17]\n",
        " [35 43  7 20 17 24 50 37 73 36]]\n",
        " ```\n",
        " although the exact numbers may be different. Check to make sure the data is shifted over one step for `y`."
      ]
    },
    {
      "cell_type": "markdown",
      "metadata": {
        "id": "gMzh0FYcsFEc",
        "colab_type": "text"
      },
      "source": [
        "---\n",
        "## Defining the network with PyTorch\n",
        "\n",
        "Below is where you'll define the network.\n",
        "\n",
        "<img src=\"https://github.com/alekz7/deeplearning/blob/master/recurrent-neural-networks/char-rnn/assets/charRNN.png?raw=1\" width=500px>\n",
        "\n",
        "Next, you'll use PyTorch to define the architecture of the network. We start by defining the layers and operations we want. Then, define a method for the forward pass. You've also been given a method for predicting characters."
      ]
    },
    {
      "cell_type": "markdown",
      "metadata": {
        "id": "jQdfxxQssFEd",
        "colab_type": "text"
      },
      "source": [
        "### Model Structure\n",
        "\n",
        "In `__init__` the suggested structure is as follows:\n",
        "* Create and store the necessary dictionaries (this has been done for you)\n",
        "* Define an LSTM layer that takes as params: an input size (the number of characters), a hidden layer size `n_hidden`, a number of layers `n_layers`, a dropout probability `drop_prob`, and a batch_first boolean (True, since we are batching)\n",
        "* Define a dropout layer with `drop_prob`\n",
        "* Define a fully-connected layer with params: input size `n_hidden` and output size (the number of characters)\n",
        "* Finally, initialize the weights (again, this has been given)\n",
        "\n",
        "Note that some parameters have been named and given in the `__init__` function, and we use them and store them by doing something like `self.drop_prob = drop_prob`."
      ]
    },
    {
      "cell_type": "markdown",
      "metadata": {
        "id": "cBkhjCFysFEe",
        "colab_type": "text"
      },
      "source": [
        "---\n",
        "### LSTM Inputs/Outputs\n",
        "\n",
        "You can create a basic [LSTM layer](https://pytorch.org/docs/stable/nn.html#lstm) as follows\n",
        "\n",
        "```python\n",
        "self.lstm = nn.LSTM(input_size, n_hidden, n_layers, \n",
        "                            dropout=drop_prob, batch_first=True)\n",
        "```\n",
        "\n",
        "where `input_size` is the number of characters this cell expects to see as sequential input, and `n_hidden` is the number of units in the hidden layers in the cell. And we can add dropout by adding a dropout parameter with a specified probability; this will automatically add dropout to the inputs or outputs. Finally, in the `forward` function, we can stack up the LSTM cells into layers using `.view`. With this, you pass in a list of cells and it will send the output of one cell into the next cell.\n",
        "\n",
        "We also need to create an initial hidden state of all zeros. This is done like so\n",
        "\n",
        "```python\n",
        "self.init_hidden()\n",
        "```"
      ]
    },
    {
      "cell_type": "code",
      "metadata": {
        "id": "h5VtOhE7sFEf",
        "colab_type": "code",
        "colab": {
          "base_uri": "https://localhost:8080/",
          "height": 34
        },
        "outputId": "bd2ce9c8-0649-411d-e3be-ca7d8bc90832"
      },
      "source": [
        "# check if GPU is available\n",
        "train_on_gpu = torch.cuda.is_available()\n",
        "if(train_on_gpu):\n",
        "    print('Entrenando en GPU!')\n",
        "else: \n",
        "    print('No GPU available, training on CPU; consider making n_epochs very small.')"
      ],
      "execution_count": 15,
      "outputs": [
        {
          "output_type": "stream",
          "text": [
            "Entrenando en GPU!\n"
          ],
          "name": "stdout"
        }
      ]
    },
    {
      "cell_type": "code",
      "metadata": {
        "id": "ETGvLo-4sFEk",
        "colab_type": "code",
        "colab": {}
      },
      "source": [
        "class CharRNN(nn.Module):\n",
        "    \n",
        "    def __init__(self, tokens, n_hidden=256, n_layers=2,\n",
        "                               drop_prob=0.5, lr=0.001):\n",
        "        super().__init__()\n",
        "        self.drop_prob = drop_prob\n",
        "        self.n_layers = n_layers\n",
        "        self.n_hidden = n_hidden\n",
        "        self.lr = lr\n",
        "        \n",
        "        # creating character dictionaries\n",
        "        self.chars = tokens\n",
        "        self.int2char = dict(enumerate(self.chars))\n",
        "        self.char2int = {ch: ii for ii, ch in self.int2char.items()}\n",
        "        \n",
        "        ## TODO: define the LSTM\n",
        "        self.lstm = nn.LSTM(len(self.chars), n_hidden, n_layers, \n",
        "                            dropout=drop_prob, batch_first=True)\n",
        "        \n",
        "        ## TODO: define a dropout layer\n",
        "        self.dropout = nn.Dropout(drop_prob)\n",
        "        \n",
        "        ## TODO: define the final, fully-connected output layer\n",
        "        self.fc = nn.Linear(n_hidden, len(self.chars))\n",
        "    \n",
        "    def forward(self, x, hidden):\n",
        "        ''' Forward pass through the network. \n",
        "            These inputs are x, and the hidden/cell state `hidden`. '''\n",
        "                \n",
        "        ## TODO: Get the outputs and the new hidden state from the lstm\n",
        "        r_output, hidden = self.lstm(x, hidden)\n",
        "        \n",
        "        ## TODO: pass through a dropout layer\n",
        "        out = self.dropout(r_output)\n",
        "        \n",
        "        # Stack up LSTM outputs using view\n",
        "        # you may need to use contiguous to reshape the output\n",
        "        out = out.contiguous().view(-1, self.n_hidden)\n",
        "        \n",
        "        ## TODO: put x through the fully-connected layer\n",
        "        out = self.fc(out)\n",
        "        \n",
        "        # return the final output and the hidden state\n",
        "        return out, hidden\n",
        "    \n",
        "    \n",
        "    def init_hidden(self, batch_size):\n",
        "        ''' Initializes hidden state '''\n",
        "        # Create two new tensors with sizes n_layers x batch_size x n_hidden,\n",
        "        # initialized to zero, for hidden state and cell state of LSTM\n",
        "        weight = next(self.parameters()).data\n",
        "        \n",
        "        if (train_on_gpu):\n",
        "            hidden = (weight.new(self.n_layers, batch_size, self.n_hidden).zero_().cuda(),\n",
        "                  weight.new(self.n_layers, batch_size, self.n_hidden).zero_().cuda())\n",
        "        else:\n",
        "            hidden = (weight.new(self.n_layers, batch_size, self.n_hidden).zero_(),\n",
        "                      weight.new(self.n_layers, batch_size, self.n_hidden).zero_())\n",
        "        \n",
        "        return hidden\n",
        "        "
      ],
      "execution_count": 0,
      "outputs": []
    },
    {
      "cell_type": "markdown",
      "metadata": {
        "id": "q_OU0AW-sFEs",
        "colab_type": "text"
      },
      "source": [
        "## Time to train\n",
        "\n",
        "The train function gives us the ability to set the number of epochs, the learning rate, and other parameters.\n",
        "\n",
        "Below we're using an Adam optimizer and cross entropy loss since we are looking at character class scores as output. We calculate the loss and perform backpropagation, as usual!\n",
        "\n",
        "A couple of details about training: \n",
        ">* Within the batch loop, we detach the hidden state from its history; this time setting it equal to a new *tuple* variable because an LSTM has a hidden state that is a tuple of the hidden and cell states.\n",
        "* We use [`clip_grad_norm_`](https://pytorch.org/docs/stable/_modules/torch/nn/utils/clip_grad.html) to help prevent exploding gradients."
      ]
    },
    {
      "cell_type": "code",
      "metadata": {
        "id": "y94UwavusFEw",
        "colab_type": "code",
        "colab": {}
      },
      "source": [
        "def train(net, data, epochs=10, batch_size=10, seq_length=50, lr=0.001, clip=5, val_frac=0.1, print_every=10):\n",
        "    ''' Training a network \n",
        "    \n",
        "        Arguments\n",
        "        ---------\n",
        "        \n",
        "        net: CharRNN network\n",
        "        data: text data to train the network\n",
        "        epochs: Number of epochs to train\n",
        "        batch_size: Number of mini-sequences per mini-batch, aka batch size\n",
        "        seq_length: Number of character steps per mini-batch\n",
        "        lr: learning rate\n",
        "        clip: gradient clipping\n",
        "        val_frac: Fraction of data to hold out for validation\n",
        "        print_every: Number of steps for printing training and validation loss\n",
        "    \n",
        "    '''\n",
        "    net.train()\n",
        "    \n",
        "    opt = torch.optim.Adam(net.parameters(), lr=lr)\n",
        "    criterion = nn.CrossEntropyLoss()\n",
        "    \n",
        "    # create training and validation data\n",
        "    val_idx = int(len(data)*(1-val_frac))\n",
        "    data, val_data = data[:val_idx], data[val_idx:]\n",
        "    \n",
        "    if(train_on_gpu):\n",
        "        net.cuda()\n",
        "    \n",
        "    counter = 0\n",
        "    n_chars = len(net.chars)\n",
        "    for e in range(epochs):\n",
        "        # initialize hidden state\n",
        "        h = net.init_hidden(batch_size)\n",
        "        \n",
        "        for x, y in get_batches(data, batch_size, seq_length):\n",
        "            counter += 1\n",
        "            \n",
        "            # One-hot encode our data and make them Torch tensors\n",
        "            x = one_hot_encode(x, n_chars)\n",
        "            inputs, targets = torch.from_numpy(x), torch.from_numpy(y)\n",
        "            \n",
        "            if(train_on_gpu):\n",
        "                inputs, targets = inputs.cuda(), targets.cuda()\n",
        "\n",
        "            # Creating new variables for the hidden state, otherwise\n",
        "            # we'd backprop through the entire training history\n",
        "            h = tuple([each.data for each in h])\n",
        "\n",
        "            # zero accumulated gradients\n",
        "            net.zero_grad()\n",
        "            \n",
        "            # get the output from the model\n",
        "            output, h = net(inputs, h)\n",
        "            \n",
        "            # calculate the loss and perform backprop\n",
        "            loss = criterion(output, targets.view(batch_size*seq_length).long())\n",
        "            loss.backward()\n",
        "            # `clip_grad_norm` helps prevent the exploding gradient problem in RNNs / LSTMs.\n",
        "            nn.utils.clip_grad_norm_(net.parameters(), clip)\n",
        "            opt.step()\n",
        "            \n",
        "            # loss stats\n",
        "            if counter % print_every == 0:\n",
        "                # Get validation loss\n",
        "                val_h = net.init_hidden(batch_size)\n",
        "                val_losses = []\n",
        "                net.eval()\n",
        "                for x, y in get_batches(val_data, batch_size, seq_length):\n",
        "                    # One-hot encode our data and make them Torch tensors\n",
        "                    x = one_hot_encode(x, n_chars)\n",
        "                    x, y = torch.from_numpy(x), torch.from_numpy(y)\n",
        "                    \n",
        "                    # Creating new variables for the hidden state, otherwise\n",
        "                    # we'd backprop through the entire training history\n",
        "                    val_h = tuple([each.data for each in val_h])\n",
        "                    \n",
        "                    inputs, targets = x, y\n",
        "                    if(train_on_gpu):\n",
        "                        inputs, targets = inputs.cuda(), targets.cuda()\n",
        "\n",
        "                    output, val_h = net(inputs, val_h)\n",
        "                    val_loss = criterion(output, targets.view(batch_size*seq_length).long())\n",
        "                \n",
        "                    val_losses.append(val_loss.item())\n",
        "                \n",
        "                net.train() # reset to train mode after iterationg through validation data\n",
        "                \n",
        "                print(\"Epoch: {}/{}...\".format(e+1, epochs),\n",
        "                      \"Step: {}...\".format(counter),\n",
        "                      \"Loss: {:.4f}...\".format(loss.item()),\n",
        "                      \"Val Loss: {:.4f}\".format(np.mean(val_losses)))"
      ],
      "execution_count": 0,
      "outputs": []
    },
    {
      "cell_type": "markdown",
      "metadata": {
        "id": "ReIJGzHpsFE2",
        "colab_type": "text"
      },
      "source": [
        "## Instantiating the model\n",
        "\n",
        "Now we can actually train the network. First we'll create the network itself, with some given hyperparameters. Then, define the mini-batches sizes, and start training!"
      ]
    },
    {
      "cell_type": "code",
      "metadata": {
        "id": "zPn6TlFJsFE3",
        "colab_type": "code",
        "colab": {
          "base_uri": "https://localhost:8080/",
          "height": 102
        },
        "outputId": "21d22148-b89a-4b05-d019-4e50a545fb99"
      },
      "source": [
        "## TODO: set your model hyperparameters\n",
        "# define and print the net\n",
        "n_hidden=512\n",
        "n_layers=2\n",
        "\n",
        "net = CharRNN(chars, n_hidden, n_layers)\n",
        "print(net)"
      ],
      "execution_count": 18,
      "outputs": [
        {
          "output_type": "stream",
          "text": [
            "CharRNN(\n",
            "  (lstm): LSTM(83, 512, num_layers=2, batch_first=True, dropout=0.5)\n",
            "  (dropout): Dropout(p=0.5)\n",
            "  (fc): Linear(in_features=512, out_features=83, bias=True)\n",
            ")\n"
          ],
          "name": "stdout"
        }
      ]
    },
    {
      "cell_type": "markdown",
      "metadata": {
        "id": "HPSS7daNsFE_",
        "colab_type": "text"
      },
      "source": [
        "### Set your training hyperparameters!"
      ]
    },
    {
      "cell_type": "code",
      "metadata": {
        "scrolled": true,
        "id": "ucy5PGuasFFC",
        "colab_type": "code",
        "colab": {
          "base_uri": "https://localhost:8080/",
          "height": 1000
        },
        "outputId": "fc5766e1-f583-4a40-c23e-b9664c995a7b"
      },
      "source": [
        "batch_size = 128\n",
        "seq_length = 100\n",
        "n_epochs = 20 # start small if you are just testing initial behavior\n",
        "\n",
        "# train the model\n",
        "train(net, encoded, epochs=n_epochs, batch_size=batch_size, seq_length=seq_length, lr=0.001, print_every=10)"
      ],
      "execution_count": 19,
      "outputs": [
        {
          "output_type": "stream",
          "text": [
            "Epoch: 1/20... Step: 10... Loss: 3.2420... Val Loss: 3.1590\n",
            "Epoch: 1/20... Step: 20... Loss: 3.1367... Val Loss: 3.1286\n",
            "Epoch: 1/20... Step: 30... Loss: 3.1397... Val Loss: 3.1208\n",
            "Epoch: 1/20... Step: 40... Loss: 3.1099... Val Loss: 3.1194\n",
            "Epoch: 1/20... Step: 50... Loss: 3.1409... Val Loss: 3.1181\n",
            "Epoch: 1/20... Step: 60... Loss: 3.1184... Val Loss: 3.1158\n",
            "Epoch: 1/20... Step: 70... Loss: 3.1070... Val Loss: 3.1140\n",
            "Epoch: 1/20... Step: 80... Loss: 3.1208... Val Loss: 3.1094\n",
            "Epoch: 1/20... Step: 90... Loss: 3.1120... Val Loss: 3.0971\n",
            "Epoch: 1/20... Step: 100... Loss: 3.0773... Val Loss: 3.0671\n",
            "Epoch: 1/20... Step: 110... Loss: 3.0382... Val Loss: 3.0090\n",
            "Epoch: 1/20... Step: 120... Loss: 2.9398... Val Loss: 2.9142\n",
            "Epoch: 1/20... Step: 130... Loss: 2.8541... Val Loss: 2.8401\n",
            "Epoch: 2/20... Step: 140... Loss: 2.7754... Val Loss: 2.7465\n",
            "Epoch: 2/20... Step: 150... Loss: 2.6879... Val Loss: 2.6470\n",
            "Epoch: 2/20... Step: 160... Loss: 2.5985... Val Loss: 2.5501\n",
            "Epoch: 2/20... Step: 170... Loss: 2.5040... Val Loss: 2.4961\n",
            "Epoch: 2/20... Step: 180... Loss: 2.4699... Val Loss: 2.4465\n",
            "Epoch: 2/20... Step: 190... Loss: 2.4240... Val Loss: 2.4031\n",
            "Epoch: 2/20... Step: 200... Loss: 2.4019... Val Loss: 2.3812\n",
            "Epoch: 2/20... Step: 210... Loss: 2.3750... Val Loss: 2.3424\n",
            "Epoch: 2/20... Step: 220... Loss: 2.3276... Val Loss: 2.3089\n",
            "Epoch: 2/20... Step: 230... Loss: 2.3165... Val Loss: 2.2849\n",
            "Epoch: 2/20... Step: 240... Loss: 2.2900... Val Loss: 2.2524\n",
            "Epoch: 2/20... Step: 250... Loss: 2.2320... Val Loss: 2.2267\n",
            "Epoch: 2/20... Step: 260... Loss: 2.2019... Val Loss: 2.2009\n",
            "Epoch: 2/20... Step: 270... Loss: 2.2078... Val Loss: 2.1787\n",
            "Epoch: 3/20... Step: 280... Loss: 2.2166... Val Loss: 2.1595\n",
            "Epoch: 3/20... Step: 290... Loss: 2.1735... Val Loss: 2.1333\n",
            "Epoch: 3/20... Step: 300... Loss: 2.1441... Val Loss: 2.1145\n",
            "Epoch: 3/20... Step: 310... Loss: 2.1129... Val Loss: 2.0929\n",
            "Epoch: 3/20... Step: 320... Loss: 2.0825... Val Loss: 2.0719\n",
            "Epoch: 3/20... Step: 330... Loss: 2.0543... Val Loss: 2.0606\n",
            "Epoch: 3/20... Step: 340... Loss: 2.0737... Val Loss: 2.0379\n",
            "Epoch: 3/20... Step: 350... Loss: 2.0526... Val Loss: 2.0178\n",
            "Epoch: 3/20... Step: 360... Loss: 1.9909... Val Loss: 1.9991\n",
            "Epoch: 3/20... Step: 370... Loss: 2.0182... Val Loss: 1.9831\n",
            "Epoch: 3/20... Step: 380... Loss: 1.9973... Val Loss: 1.9677\n",
            "Epoch: 3/20... Step: 390... Loss: 1.9703... Val Loss: 1.9531\n",
            "Epoch: 3/20... Step: 400... Loss: 1.9424... Val Loss: 1.9388\n",
            "Epoch: 3/20... Step: 410... Loss: 1.9518... Val Loss: 1.9227\n",
            "Epoch: 4/20... Step: 420... Loss: 1.9452... Val Loss: 1.9068\n",
            "Epoch: 4/20... Step: 430... Loss: 1.9245... Val Loss: 1.8955\n",
            "Epoch: 4/20... Step: 440... Loss: 1.9111... Val Loss: 1.8862\n",
            "Epoch: 4/20... Step: 450... Loss: 1.8463... Val Loss: 1.8673\n",
            "Epoch: 4/20... Step: 460... Loss: 1.8441... Val Loss: 1.8598\n",
            "Epoch: 4/20... Step: 470... Loss: 1.8812... Val Loss: 1.8483\n",
            "Epoch: 4/20... Step: 480... Loss: 1.8541... Val Loss: 1.8350\n",
            "Epoch: 4/20... Step: 490... Loss: 1.8582... Val Loss: 1.8209\n",
            "Epoch: 4/20... Step: 500... Loss: 1.8469... Val Loss: 1.8108\n",
            "Epoch: 4/20... Step: 510... Loss: 1.8176... Val Loss: 1.7998\n",
            "Epoch: 4/20... Step: 520... Loss: 1.8381... Val Loss: 1.7900\n",
            "Epoch: 4/20... Step: 530... Loss: 1.7995... Val Loss: 1.7848\n",
            "Epoch: 4/20... Step: 540... Loss: 1.7652... Val Loss: 1.7689\n",
            "Epoch: 4/20... Step: 550... Loss: 1.8108... Val Loss: 1.7605\n",
            "Epoch: 5/20... Step: 560... Loss: 1.7680... Val Loss: 1.7475\n",
            "Epoch: 5/20... Step: 570... Loss: 1.7652... Val Loss: 1.7433\n",
            "Epoch: 5/20... Step: 580... Loss: 1.7408... Val Loss: 1.7314\n",
            "Epoch: 5/20... Step: 590... Loss: 1.7322... Val Loss: 1.7242\n",
            "Epoch: 5/20... Step: 600... Loss: 1.7245... Val Loss: 1.7167\n",
            "Epoch: 5/20... Step: 610... Loss: 1.7012... Val Loss: 1.7074\n",
            "Epoch: 5/20... Step: 620... Loss: 1.7130... Val Loss: 1.7014\n",
            "Epoch: 5/20... Step: 630... Loss: 1.7336... Val Loss: 1.6932\n",
            "Epoch: 5/20... Step: 640... Loss: 1.6973... Val Loss: 1.6867\n",
            "Epoch: 5/20... Step: 650... Loss: 1.6889... Val Loss: 1.6780\n",
            "Epoch: 5/20... Step: 660... Loss: 1.6626... Val Loss: 1.6729\n",
            "Epoch: 5/20... Step: 670... Loss: 1.6885... Val Loss: 1.6703\n",
            "Epoch: 5/20... Step: 680... Loss: 1.6873... Val Loss: 1.6560\n",
            "Epoch: 5/20... Step: 690... Loss: 1.6597... Val Loss: 1.6533\n",
            "Epoch: 6/20... Step: 700... Loss: 1.6545... Val Loss: 1.6461\n",
            "Epoch: 6/20... Step: 710... Loss: 1.6455... Val Loss: 1.6418\n",
            "Epoch: 6/20... Step: 720... Loss: 1.6358... Val Loss: 1.6320\n",
            "Epoch: 6/20... Step: 730... Loss: 1.6518... Val Loss: 1.6260\n",
            "Epoch: 6/20... Step: 740... Loss: 1.6094... Val Loss: 1.6224\n",
            "Epoch: 6/20... Step: 750... Loss: 1.6025... Val Loss: 1.6167\n",
            "Epoch: 6/20... Step: 760... Loss: 1.6390... Val Loss: 1.6088\n",
            "Epoch: 6/20... Step: 770... Loss: 1.6271... Val Loss: 1.6070\n",
            "Epoch: 6/20... Step: 780... Loss: 1.6022... Val Loss: 1.5995\n",
            "Epoch: 6/20... Step: 790... Loss: 1.5837... Val Loss: 1.5941\n",
            "Epoch: 6/20... Step: 800... Loss: 1.6156... Val Loss: 1.5907\n",
            "Epoch: 6/20... Step: 810... Loss: 1.5979... Val Loss: 1.5856\n",
            "Epoch: 6/20... Step: 820... Loss: 1.5666... Val Loss: 1.5809\n",
            "Epoch: 6/20... Step: 830... Loss: 1.6033... Val Loss: 1.5751\n",
            "Epoch: 7/20... Step: 840... Loss: 1.5492... Val Loss: 1.5680\n",
            "Epoch: 7/20... Step: 850... Loss: 1.5742... Val Loss: 1.5676\n",
            "Epoch: 7/20... Step: 860... Loss: 1.5526... Val Loss: 1.5596\n",
            "Epoch: 7/20... Step: 870... Loss: 1.5665... Val Loss: 1.5603\n",
            "Epoch: 7/20... Step: 880... Loss: 1.5681... Val Loss: 1.5545\n",
            "Epoch: 7/20... Step: 890... Loss: 1.5632... Val Loss: 1.5495\n",
            "Epoch: 7/20... Step: 900... Loss: 1.5317... Val Loss: 1.5473\n",
            "Epoch: 7/20... Step: 910... Loss: 1.5187... Val Loss: 1.5415\n",
            "Epoch: 7/20... Step: 920... Loss: 1.5388... Val Loss: 1.5378\n",
            "Epoch: 7/20... Step: 930... Loss: 1.5115... Val Loss: 1.5325\n",
            "Epoch: 7/20... Step: 940... Loss: 1.5335... Val Loss: 1.5302\n",
            "Epoch: 7/20... Step: 950... Loss: 1.5455... Val Loss: 1.5250\n",
            "Epoch: 7/20... Step: 960... Loss: 1.5376... Val Loss: 1.5220\n",
            "Epoch: 7/20... Step: 970... Loss: 1.5410... Val Loss: 1.5198\n",
            "Epoch: 8/20... Step: 980... Loss: 1.5232... Val Loss: 1.5170\n",
            "Epoch: 8/20... Step: 990... Loss: 1.5170... Val Loss: 1.5155\n",
            "Epoch: 8/20... Step: 1000... Loss: 1.5090... Val Loss: 1.5088\n",
            "Epoch: 8/20... Step: 1010... Loss: 1.5414... Val Loss: 1.5020\n",
            "Epoch: 8/20... Step: 1020... Loss: 1.5160... Val Loss: 1.4996\n",
            "Epoch: 8/20... Step: 1030... Loss: 1.4931... Val Loss: 1.4974\n",
            "Epoch: 8/20... Step: 1040... Loss: 1.5081... Val Loss: 1.4966\n",
            "Epoch: 8/20... Step: 1050... Loss: 1.4830... Val Loss: 1.4928\n",
            "Epoch: 8/20... Step: 1060... Loss: 1.4921... Val Loss: 1.4939\n",
            "Epoch: 8/20... Step: 1070... Loss: 1.4879... Val Loss: 1.4891\n",
            "Epoch: 8/20... Step: 1080... Loss: 1.5024... Val Loss: 1.4824\n",
            "Epoch: 8/20... Step: 1090... Loss: 1.4738... Val Loss: 1.4812\n",
            "Epoch: 8/20... Step: 1100... Loss: 1.4729... Val Loss: 1.4779\n",
            "Epoch: 8/20... Step: 1110... Loss: 1.4835... Val Loss: 1.4744\n",
            "Epoch: 9/20... Step: 1120... Loss: 1.4859... Val Loss: 1.4778\n",
            "Epoch: 9/20... Step: 1130... Loss: 1.4746... Val Loss: 1.4736\n",
            "Epoch: 9/20... Step: 1140... Loss: 1.4779... Val Loss: 1.4652\n",
            "Epoch: 9/20... Step: 1150... Loss: 1.4968... Val Loss: 1.4646\n",
            "Epoch: 9/20... Step: 1160... Loss: 1.4472... Val Loss: 1.4604\n",
            "Epoch: 9/20... Step: 1170... Loss: 1.4622... Val Loss: 1.4612\n",
            "Epoch: 9/20... Step: 1180... Loss: 1.4472... Val Loss: 1.4590\n",
            "Epoch: 9/20... Step: 1190... Loss: 1.4841... Val Loss: 1.4570\n",
            "Epoch: 9/20... Step: 1200... Loss: 1.4296... Val Loss: 1.4550\n",
            "Epoch: 9/20... Step: 1210... Loss: 1.4399... Val Loss: 1.4493\n",
            "Epoch: 9/20... Step: 1220... Loss: 1.4468... Val Loss: 1.4473\n",
            "Epoch: 9/20... Step: 1230... Loss: 1.4242... Val Loss: 1.4457\n",
            "Epoch: 9/20... Step: 1240... Loss: 1.4302... Val Loss: 1.4405\n",
            "Epoch: 9/20... Step: 1250... Loss: 1.4511... Val Loss: 1.4399\n",
            "Epoch: 10/20... Step: 1260... Loss: 1.4457... Val Loss: 1.4432\n",
            "Epoch: 10/20... Step: 1270... Loss: 1.4406... Val Loss: 1.4409\n",
            "Epoch: 10/20... Step: 1280... Loss: 1.4436... Val Loss: 1.4349\n",
            "Epoch: 10/20... Step: 1290... Loss: 1.4414... Val Loss: 1.4354\n",
            "Epoch: 10/20... Step: 1300... Loss: 1.4280... Val Loss: 1.4311\n",
            "Epoch: 10/20... Step: 1310... Loss: 1.4240... Val Loss: 1.4286\n",
            "Epoch: 10/20... Step: 1320... Loss: 1.3951... Val Loss: 1.4279\n",
            "Epoch: 10/20... Step: 1330... Loss: 1.4109... Val Loss: 1.4281\n",
            "Epoch: 10/20... Step: 1340... Loss: 1.3912... Val Loss: 1.4205\n",
            "Epoch: 10/20... Step: 1350... Loss: 1.3835... Val Loss: 1.4207\n",
            "Epoch: 10/20... Step: 1360... Loss: 1.3942... Val Loss: 1.4216\n",
            "Epoch: 10/20... Step: 1370... Loss: 1.3835... Val Loss: 1.4190\n",
            "Epoch: 10/20... Step: 1380... Loss: 1.4213... Val Loss: 1.4131\n",
            "Epoch: 10/20... Step: 1390... Loss: 1.4254... Val Loss: 1.4121\n",
            "Epoch: 11/20... Step: 1400... Loss: 1.4341... Val Loss: 1.4157\n",
            "Epoch: 11/20... Step: 1410... Loss: 1.4397... Val Loss: 1.4135\n",
            "Epoch: 11/20... Step: 1420... Loss: 1.4283... Val Loss: 1.4092\n",
            "Epoch: 11/20... Step: 1430... Loss: 1.3963... Val Loss: 1.4119\n",
            "Epoch: 11/20... Step: 1440... Loss: 1.4286... Val Loss: 1.4072\n",
            "Epoch: 11/20... Step: 1450... Loss: 1.3487... Val Loss: 1.4048\n",
            "Epoch: 11/20... Step: 1460... Loss: 1.3645... Val Loss: 1.4043\n",
            "Epoch: 11/20... Step: 1470... Loss: 1.3705... Val Loss: 1.4045\n",
            "Epoch: 11/20... Step: 1480... Loss: 1.3838... Val Loss: 1.4004\n",
            "Epoch: 11/20... Step: 1490... Loss: 1.3684... Val Loss: 1.3984\n",
            "Epoch: 11/20... Step: 1500... Loss: 1.3716... Val Loss: 1.4012\n",
            "Epoch: 11/20... Step: 1510... Loss: 1.3478... Val Loss: 1.3968\n",
            "Epoch: 11/20... Step: 1520... Loss: 1.3831... Val Loss: 1.3917\n",
            "Epoch: 12/20... Step: 1530... Loss: 1.4337... Val Loss: 1.3905\n",
            "Epoch: 12/20... Step: 1540... Loss: 1.3890... Val Loss: 1.3930\n",
            "Epoch: 12/20... Step: 1550... Loss: 1.3901... Val Loss: 1.3893\n",
            "Epoch: 12/20... Step: 1560... Loss: 1.4016... Val Loss: 1.3882\n",
            "Epoch: 12/20... Step: 1570... Loss: 1.3568... Val Loss: 1.3936\n",
            "Epoch: 12/20... Step: 1580... Loss: 1.3363... Val Loss: 1.3871\n",
            "Epoch: 12/20... Step: 1590... Loss: 1.3325... Val Loss: 1.3854\n",
            "Epoch: 12/20... Step: 1600... Loss: 1.3568... Val Loss: 1.3838\n",
            "Epoch: 12/20... Step: 1610... Loss: 1.3477... Val Loss: 1.3844\n",
            "Epoch: 12/20... Step: 1620... Loss: 1.3406... Val Loss: 1.3770\n",
            "Epoch: 12/20... Step: 1630... Loss: 1.3683... Val Loss: 1.3782\n",
            "Epoch: 12/20... Step: 1640... Loss: 1.3406... Val Loss: 1.3823\n",
            "Epoch: 12/20... Step: 1650... Loss: 1.3190... Val Loss: 1.3777\n",
            "Epoch: 12/20... Step: 1660... Loss: 1.3778... Val Loss: 1.3737\n",
            "Epoch: 13/20... Step: 1670... Loss: 1.3469... Val Loss: 1.3736\n",
            "Epoch: 13/20... Step: 1680... Loss: 1.3564... Val Loss: 1.3724\n",
            "Epoch: 13/20... Step: 1690... Loss: 1.3417... Val Loss: 1.3706\n",
            "Epoch: 13/20... Step: 1700... Loss: 1.3299... Val Loss: 1.3666\n",
            "Epoch: 13/20... Step: 1710... Loss: 1.3146... Val Loss: 1.3685\n",
            "Epoch: 13/20... Step: 1720... Loss: 1.3312... Val Loss: 1.3711\n",
            "Epoch: 13/20... Step: 1730... Loss: 1.3600... Val Loss: 1.3694\n",
            "Epoch: 13/20... Step: 1740... Loss: 1.3283... Val Loss: 1.3664\n",
            "Epoch: 13/20... Step: 1750... Loss: 1.3028... Val Loss: 1.3674\n",
            "Epoch: 13/20... Step: 1760... Loss: 1.3313... Val Loss: 1.3617\n",
            "Epoch: 13/20... Step: 1770... Loss: 1.3476... Val Loss: 1.3639\n",
            "Epoch: 13/20... Step: 1780... Loss: 1.3177... Val Loss: 1.3643\n",
            "Epoch: 13/20... Step: 1790... Loss: 1.3082... Val Loss: 1.3628\n",
            "Epoch: 13/20... Step: 1800... Loss: 1.3325... Val Loss: 1.3574\n",
            "Epoch: 14/20... Step: 1810... Loss: 1.3443... Val Loss: 1.3618\n",
            "Epoch: 14/20... Step: 1820... Loss: 1.3248... Val Loss: 1.3614\n",
            "Epoch: 14/20... Step: 1830... Loss: 1.3540... Val Loss: 1.3548\n",
            "Epoch: 14/20... Step: 1840... Loss: 1.2885... Val Loss: 1.3559\n",
            "Epoch: 14/20... Step: 1850... Loss: 1.2644... Val Loss: 1.3557\n",
            "Epoch: 14/20... Step: 1860... Loss: 1.3274... Val Loss: 1.3561\n",
            "Epoch: 14/20... Step: 1870... Loss: 1.3358... Val Loss: 1.3564\n",
            "Epoch: 14/20... Step: 1880... Loss: 1.3310... Val Loss: 1.3529\n",
            "Epoch: 14/20... Step: 1890... Loss: 1.3390... Val Loss: 1.3544\n",
            "Epoch: 14/20... Step: 1900... Loss: 1.3250... Val Loss: 1.3512\n",
            "Epoch: 14/20... Step: 1910... Loss: 1.3120... Val Loss: 1.3505\n",
            "Epoch: 14/20... Step: 1920... Loss: 1.3223... Val Loss: 1.3478\n",
            "Epoch: 14/20... Step: 1930... Loss: 1.2721... Val Loss: 1.3465\n",
            "Epoch: 14/20... Step: 1940... Loss: 1.3395... Val Loss: 1.3423\n",
            "Epoch: 15/20... Step: 1950... Loss: 1.3005... Val Loss: 1.3461\n",
            "Epoch: 15/20... Step: 1960... Loss: 1.3091... Val Loss: 1.3443\n",
            "Epoch: 15/20... Step: 1970... Loss: 1.3020... Val Loss: 1.3445\n",
            "Epoch: 15/20... Step: 1980... Loss: 1.3032... Val Loss: 1.3425\n",
            "Epoch: 15/20... Step: 1990... Loss: 1.2945... Val Loss: 1.3444\n",
            "Epoch: 15/20... Step: 2000... Loss: 1.2758... Val Loss: 1.3411\n",
            "Epoch: 15/20... Step: 2010... Loss: 1.3029... Val Loss: 1.3401\n",
            "Epoch: 15/20... Step: 2020... Loss: 1.3200... Val Loss: 1.3400\n",
            "Epoch: 15/20... Step: 2030... Loss: 1.2904... Val Loss: 1.3418\n",
            "Epoch: 15/20... Step: 2040... Loss: 1.2999... Val Loss: 1.3376\n",
            "Epoch: 15/20... Step: 2050... Loss: 1.2903... Val Loss: 1.3391\n",
            "Epoch: 15/20... Step: 2060... Loss: 1.2943... Val Loss: 1.3356\n",
            "Epoch: 15/20... Step: 2070... Loss: 1.2979... Val Loss: 1.3362\n",
            "Epoch: 15/20... Step: 2080... Loss: 1.2882... Val Loss: 1.3348\n",
            "Epoch: 16/20... Step: 2090... Loss: 1.3033... Val Loss: 1.3372\n",
            "Epoch: 16/20... Step: 2100... Loss: 1.2820... Val Loss: 1.3330\n",
            "Epoch: 16/20... Step: 2110... Loss: 1.2707... Val Loss: 1.3315\n",
            "Epoch: 16/20... Step: 2120... Loss: 1.2976... Val Loss: 1.3347\n",
            "Epoch: 16/20... Step: 2130... Loss: 1.2709... Val Loss: 1.3373\n",
            "Epoch: 16/20... Step: 2140... Loss: 1.2832... Val Loss: 1.3328\n",
            "Epoch: 16/20... Step: 2150... Loss: 1.2994... Val Loss: 1.3304\n",
            "Epoch: 16/20... Step: 2160... Loss: 1.2790... Val Loss: 1.3318\n",
            "Epoch: 16/20... Step: 2170... Loss: 1.2819... Val Loss: 1.3304\n",
            "Epoch: 16/20... Step: 2180... Loss: 1.2774... Val Loss: 1.3257\n",
            "Epoch: 16/20... Step: 2190... Loss: 1.2970... Val Loss: 1.3270\n",
            "Epoch: 16/20... Step: 2200... Loss: 1.2758... Val Loss: 1.3278\n",
            "Epoch: 16/20... Step: 2210... Loss: 1.2370... Val Loss: 1.3264\n",
            "Epoch: 16/20... Step: 2220... Loss: 1.2763... Val Loss: 1.3269\n",
            "Epoch: 17/20... Step: 2230... Loss: 1.2575... Val Loss: 1.3283\n",
            "Epoch: 17/20... Step: 2240... Loss: 1.2707... Val Loss: 1.3248\n",
            "Epoch: 17/20... Step: 2250... Loss: 1.2507... Val Loss: 1.3234\n",
            "Epoch: 17/20... Step: 2260... Loss: 1.2707... Val Loss: 1.3262\n",
            "Epoch: 17/20... Step: 2270... Loss: 1.2652... Val Loss: 1.3263\n",
            "Epoch: 17/20... Step: 2280... Loss: 1.2853... Val Loss: 1.3214\n",
            "Epoch: 17/20... Step: 2290... Loss: 1.2786... Val Loss: 1.3198\n",
            "Epoch: 17/20... Step: 2300... Loss: 1.2471... Val Loss: 1.3239\n",
            "Epoch: 17/20... Step: 2310... Loss: 1.2685... Val Loss: 1.3203\n",
            "Epoch: 17/20... Step: 2320... Loss: 1.2629... Val Loss: 1.3183\n",
            "Epoch: 17/20... Step: 2330... Loss: 1.2523... Val Loss: 1.3177\n",
            "Epoch: 17/20... Step: 2340... Loss: 1.2690... Val Loss: 1.3169\n",
            "Epoch: 17/20... Step: 2350... Loss: 1.2735... Val Loss: 1.3143\n",
            "Epoch: 17/20... Step: 2360... Loss: 1.2768... Val Loss: 1.3174\n",
            "Epoch: 18/20... Step: 2370... Loss: 1.2490... Val Loss: 1.3165\n",
            "Epoch: 18/20... Step: 2380... Loss: 1.2570... Val Loss: 1.3156\n",
            "Epoch: 18/20... Step: 2390... Loss: 1.2498... Val Loss: 1.3115\n",
            "Epoch: 18/20... Step: 2400... Loss: 1.2773... Val Loss: 1.3143\n",
            "Epoch: 18/20... Step: 2410... Loss: 1.2722... Val Loss: 1.3167\n",
            "Epoch: 18/20... Step: 2420... Loss: 1.2477... Val Loss: 1.3125\n",
            "Epoch: 18/20... Step: 2430... Loss: 1.2676... Val Loss: 1.3111\n",
            "Epoch: 18/20... Step: 2440... Loss: 1.2526... Val Loss: 1.3137\n",
            "Epoch: 18/20... Step: 2450... Loss: 1.2439... Val Loss: 1.3113\n",
            "Epoch: 18/20... Step: 2460... Loss: 1.2534... Val Loss: 1.3111\n",
            "Epoch: 18/20... Step: 2470... Loss: 1.2525... Val Loss: 1.3090\n",
            "Epoch: 18/20... Step: 2480... Loss: 1.2435... Val Loss: 1.3056\n",
            "Epoch: 18/20... Step: 2490... Loss: 1.2349... Val Loss: 1.3090\n",
            "Epoch: 18/20... Step: 2500... Loss: 1.2372... Val Loss: 1.3043\n",
            "Epoch: 19/20... Step: 2510... Loss: 1.2508... Val Loss: 1.3083\n",
            "Epoch: 19/20... Step: 2520... Loss: 1.2617... Val Loss: 1.3087\n",
            "Epoch: 19/20... Step: 2530... Loss: 1.2608... Val Loss: 1.3027\n",
            "Epoch: 19/20... Step: 2540... Loss: 1.2679... Val Loss: 1.3076\n",
            "Epoch: 19/20... Step: 2550... Loss: 1.2380... Val Loss: 1.3093\n",
            "Epoch: 19/20... Step: 2560... Loss: 1.2492... Val Loss: 1.3029\n",
            "Epoch: 19/20... Step: 2570... Loss: 1.2353... Val Loss: 1.3061\n",
            "Epoch: 19/20... Step: 2580... Loss: 1.2735... Val Loss: 1.3058\n",
            "Epoch: 19/20... Step: 2590... Loss: 1.2301... Val Loss: 1.3064\n",
            "Epoch: 19/20... Step: 2600... Loss: 1.2351... Val Loss: 1.3015\n",
            "Epoch: 19/20... Step: 2610... Loss: 1.2357... Val Loss: 1.3019\n",
            "Epoch: 19/20... Step: 2620... Loss: 1.2209... Val Loss: 1.3002\n",
            "Epoch: 19/20... Step: 2630... Loss: 1.2318... Val Loss: 1.2983\n",
            "Epoch: 19/20... Step: 2640... Loss: 1.2399... Val Loss: 1.2994\n",
            "Epoch: 20/20... Step: 2650... Loss: 1.2496... Val Loss: 1.3036\n",
            "Epoch: 20/20... Step: 2660... Loss: 1.2472... Val Loss: 1.3026\n",
            "Epoch: 20/20... Step: 2670... Loss: 1.2581... Val Loss: 1.2984\n",
            "Epoch: 20/20... Step: 2680... Loss: 1.2407... Val Loss: 1.2975\n",
            "Epoch: 20/20... Step: 2690... Loss: 1.2377... Val Loss: 1.2983\n",
            "Epoch: 20/20... Step: 2700... Loss: 1.2425... Val Loss: 1.2941\n",
            "Epoch: 20/20... Step: 2710... Loss: 1.2189... Val Loss: 1.2969\n",
            "Epoch: 20/20... Step: 2720... Loss: 1.2105... Val Loss: 1.2974\n",
            "Epoch: 20/20... Step: 2730... Loss: 1.2153... Val Loss: 1.2961\n",
            "Epoch: 20/20... Step: 2740... Loss: 1.2080... Val Loss: 1.3010\n",
            "Epoch: 20/20... Step: 2750... Loss: 1.2134... Val Loss: 1.2994\n",
            "Epoch: 20/20... Step: 2760... Loss: 1.2036... Val Loss: 1.2968\n",
            "Epoch: 20/20... Step: 2770... Loss: 1.2407... Val Loss: 1.2907\n",
            "Epoch: 20/20... Step: 2780... Loss: 1.2630... Val Loss: 1.2924\n"
          ],
          "name": "stdout"
        }
      ]
    },
    {
      "cell_type": "markdown",
      "metadata": {
        "id": "sZgvrYX0sFFW",
        "colab_type": "text"
      },
      "source": [
        "## Getting the best model\n",
        "\n",
        "To set your hyperparameters to get the best performance, you'll want to watch the training and validation losses. If your training loss is much lower than the validation loss, you're overfitting. Increase regularization (more dropout) or use a smaller network. If the training and validation losses are close, you're underfitting so you can increase the size of the network."
      ]
    },
    {
      "cell_type": "markdown",
      "metadata": {
        "id": "cLEbHU4jsFFY",
        "colab_type": "text"
      },
      "source": [
        "## Hyperparameters\n",
        "\n",
        "Here are the hyperparameters for the network.\n",
        "\n",
        "In defining the model:\n",
        "* `n_hidden` - The number of units in the hidden layers.\n",
        "* `n_layers` - Number of hidden LSTM layers to use.\n",
        "\n",
        "We assume that dropout probability and learning rate will be kept at the default, in this example.\n",
        "\n",
        "And in training:\n",
        "* `batch_size` - Number of sequences running through the network in one pass.\n",
        "* `seq_length` - Number of characters in the sequence the network is trained on. Larger is better typically, the network will learn more long range dependencies. But it takes longer to train. 100 is typically a good number here.\n",
        "* `lr` - Learning rate for training\n",
        "\n",
        "Here's some good advice from Andrej Karpathy on training the network. I'm going to copy it in here for your benefit, but also link to [where it originally came from](https://github.com/karpathy/char-rnn#tips-and-tricks).\n",
        "\n",
        "> ## Tips and Tricks\n",
        "\n",
        ">### Monitoring Validation Loss vs. Training Loss\n",
        ">If you're somewhat new to Machine Learning or Neural Networks it can take a bit of expertise to get good models. The most important quantity to keep track of is the difference between your training loss (printed during training) and the validation loss (printed once in a while when the RNN is run on the validation data (by default every 1000 iterations)). In particular:\n",
        "\n",
        "> - If your training loss is much lower than validation loss then this means the network might be **overfitting**. Solutions to this are to decrease your network size, or to increase dropout. For example you could try dropout of 0.5 and so on.\n",
        "> - If your training/validation loss are about equal then your model is **underfitting**. Increase the size of your model (either number of layers or the raw number of neurons per layer)\n",
        "\n",
        "> ### Approximate number of parameters\n",
        "\n",
        "> The two most important parameters that control the model are `n_hidden` and `n_layers`. I would advise that you always use `n_layers` of either 2/3. The `n_hidden` can be adjusted based on how much data you have. The two important quantities to keep track of here are:\n",
        "\n",
        "> - The number of parameters in your model. This is printed when you start training.\n",
        "> - The size of your dataset. 1MB file is approximately 1 million characters.\n",
        "\n",
        ">These two should be about the same order of magnitude. It's a little tricky to tell. Here are some examples:\n",
        "\n",
        "> - I have a 100MB dataset and I'm using the default parameter settings (which currently print 150K parameters). My data size is significantly larger (100 mil >> 0.15 mil), so I expect to heavily underfit. I am thinking I can comfortably afford to make `n_hidden` larger.\n",
        "> - I have a 10MB dataset and running a 10 million parameter model. I'm slightly nervous and I'm carefully monitoring my validation loss. If it's larger than my training loss then I may want to try to increase dropout a bit and see if that helps the validation loss.\n",
        "\n",
        "> ### Best models strategy\n",
        "\n",
        ">The winning strategy to obtaining very good models (if you have the compute time) is to always err on making the network larger (as large as you're willing to wait for it to compute) and then try different dropout values (between 0,1). Whatever model has the best validation performance (the loss, written in the checkpoint filename, low is good) is the one you should use in the end.\n",
        "\n",
        ">It is very common in deep learning to run many different models with many different hyperparameter settings, and in the end take whatever checkpoint gave the best validation performance.\n",
        "\n",
        ">By the way, the size of your training and validation splits are also parameters. Make sure you have a decent amount of data in your validation set or otherwise the validation performance will be noisy and not very informative."
      ]
    },
    {
      "cell_type": "markdown",
      "metadata": {
        "id": "g7WR8cemsFFc",
        "colab_type": "text"
      },
      "source": [
        "## Checkpoint\n",
        "\n",
        "After training, we'll save the model so we can load it again later if we need too. Here I'm saving the parameters needed to create the same architecture, the hidden layer hyperparameters and the text characters."
      ]
    },
    {
      "cell_type": "code",
      "metadata": {
        "id": "stJ00QqYsFFd",
        "colab_type": "code",
        "colab": {}
      },
      "source": [
        "# change the name, for saving multiple files\n",
        "model_name = 'rnn_20_epoch.net'\n",
        "\n",
        "checkpoint = {'n_hidden': net.n_hidden,\n",
        "              'n_layers': net.n_layers,\n",
        "              'state_dict': net.state_dict(),\n",
        "              'tokens': net.chars}\n",
        "\n",
        "with open(model_name, 'wb') as f:\n",
        "    torch.save(checkpoint, f)"
      ],
      "execution_count": 0,
      "outputs": []
    },
    {
      "cell_type": "markdown",
      "metadata": {
        "id": "Z4yurkISsFFi",
        "colab_type": "text"
      },
      "source": [
        "---\n",
        "## Making Predictions\n",
        "\n",
        "Now that the model is trained, we'll want to sample from it and make predictions about next characters! To sample, we pass in a character and have the network predict the next character. Then we take that character, pass it back in, and get another predicted character. Just keep doing this and you'll generate a bunch of text!\n",
        "\n",
        "### A note on the `predict`  function\n",
        "\n",
        "The output of our RNN is from a fully-connected layer and it outputs a **distribution of next-character scores**.\n",
        "\n",
        "> To actually get the next character, we apply a softmax function, which gives us a *probability* distribution that we can then sample to predict the next character.\n",
        "\n",
        "### Top K sampling\n",
        "\n",
        "Our predictions come from a categorical probability distribution over all the possible characters. We can make the sample text and make it more reasonable to handle (with less variables) by only considering some $K$ most probable characters. This will prevent the network from giving us completely absurd characters while allowing it to introduce some noise and randomness into the sampled text. Read more about [topk, here](https://pytorch.org/docs/stable/torch.html#torch.topk).\n"
      ]
    },
    {
      "cell_type": "code",
      "metadata": {
        "id": "pmwIMVLDsFFj",
        "colab_type": "code",
        "colab": {}
      },
      "source": [
        "def predict(net, char, h=None, top_k=None):\n",
        "        ''' Given a character, predict the next character.\n",
        "            Returns the predicted character and the hidden state.\n",
        "        '''\n",
        "        \n",
        "        # tensor inputs\n",
        "        x = np.array([[net.char2int[char]]])\n",
        "        x = one_hot_encode(x, len(net.chars))\n",
        "        inputs = torch.from_numpy(x)\n",
        "        \n",
        "        if(train_on_gpu):\n",
        "            inputs = inputs.cuda()\n",
        "        \n",
        "        # detach hidden state from history\n",
        "        h = tuple([each.data for each in h])\n",
        "        # get the output of the model\n",
        "        out, h = net(inputs, h)\n",
        "\n",
        "        # get the character probabilities\n",
        "        p = F.softmax(out, dim=1).data\n",
        "        if(train_on_gpu):\n",
        "            p = p.cpu() # move to cpu\n",
        "        \n",
        "        # get top characters\n",
        "        if top_k is None:\n",
        "            top_ch = np.arange(len(net.chars))\n",
        "        else:\n",
        "            p, top_ch = p.topk(top_k)\n",
        "            top_ch = top_ch.numpy().squeeze()\n",
        "        \n",
        "        # select the likely next character with some element of randomness\n",
        "        p = p.numpy().squeeze()\n",
        "        char = np.random.choice(top_ch, p=p/p.sum())\n",
        "        \n",
        "        # return the encoded value of the predicted char and the hidden state\n",
        "        return net.int2char[char], h"
      ],
      "execution_count": 0,
      "outputs": []
    },
    {
      "cell_type": "markdown",
      "metadata": {
        "id": "4T7cvTRMsFFn",
        "colab_type": "text"
      },
      "source": [
        "### Priming and generating text \n",
        "\n",
        "Typically you'll want to prime the network so you can build up a hidden state. Otherwise the network will start out generating characters at random. In general the first bunch of characters will be a little rough since it hasn't built up a long history of characters to predict from."
      ]
    },
    {
      "cell_type": "code",
      "metadata": {
        "id": "3U6Du_lhsFFo",
        "colab_type": "code",
        "colab": {}
      },
      "source": [
        "def sample(net, size, prime='The', top_k=None):\n",
        "        \n",
        "    if(train_on_gpu):\n",
        "        net.cuda()\n",
        "    else:\n",
        "        net.cpu()\n",
        "    \n",
        "    net.eval() # eval mode\n",
        "    \n",
        "    # First off, run through the prime characters\n",
        "    chars = [ch for ch in prime]\n",
        "    h = net.init_hidden(1)\n",
        "    for ch in prime:\n",
        "        char, h = predict(net, ch, h, top_k=top_k)\n",
        "\n",
        "    chars.append(char)\n",
        "    \n",
        "    # Now pass in the previous character and get a new one\n",
        "    for ii in range(size):\n",
        "        char, h = predict(net, chars[-1], h, top_k=top_k)\n",
        "        chars.append(char)\n",
        "\n",
        "    return ''.join(chars)"
      ],
      "execution_count": 0,
      "outputs": []
    },
    {
      "cell_type": "code",
      "metadata": {
        "id": "V79fXtVpsFFt",
        "colab_type": "code",
        "colab": {
          "base_uri": "https://localhost:8080/",
          "height": 462
        },
        "outputId": "a9f89095-e7b6-4020-a258-0e75c9c5c78f"
      },
      "source": [
        "print(sample(net, 1000, prime='princess', top_k=5))"
      ],
      "execution_count": 23,
      "outputs": [
        {
          "output_type": "stream",
          "text": [
            "princess to servant a chuld to him of herself, and set, better in these poors, he went away to\n",
            "him about her husband.\n",
            "\n",
            "\"Was it the some simple means that you should go to me, I'll go to her and then,\" he said, and, still said, and sent to him that she was so to\n",
            "see him.\n",
            "\n",
            "\"I'm a conversation\n",
            "of them. You\n",
            "didn't talk it,\" he said, smiling with the\n",
            "father,\n",
            "\"I can't help the timility in the presences are\n",
            "strungthing which.\"\n",
            "\n",
            "\"Oh, no! All yin's told him, then?\" said the last giol, white look stronger he could not help spent to her and say soon\n",
            "as he\n",
            "was already that\n",
            "it was not saying. She had said in the court with\n",
            "a lung of an hands and hands, and with his study, who talked it\n",
            "to him.\n",
            "\n",
            "\"I shall grief there will be destined.... I have taken up, if you drink outsod. If that's sechnes there, and then then server\n",
            "of arrival, and that hose of this tree to be to be more at a country's accounts, and that is the pickute,\" he added, looking\n",
            "at him for to the same table,\n",
            "and she winging to\n",
            "help a paper, a sh\n"
          ],
          "name": "stdout"
        }
      ]
    },
    {
      "cell_type": "markdown",
      "metadata": {
        "id": "8wF1pKU6sFFw",
        "colab_type": "text"
      },
      "source": [
        "## Loading a checkpoint"
      ]
    },
    {
      "cell_type": "code",
      "metadata": {
        "id": "AgS3gq1KsFFy",
        "colab_type": "code",
        "colab": {
          "base_uri": "https://localhost:8080/",
          "height": 34
        },
        "outputId": "3e45fa41-7dfa-4cac-98a9-8429cb219bb4"
      },
      "source": [
        "# Here we have loaded in a model that trained over 20 epochs `rnn_20_epoch.net`\n",
        "with open('rnn_20_epoch.net', 'rb') as f:\n",
        "    checkpoint = torch.load(f)\n",
        "    \n",
        "loaded = CharRNN(checkpoint['tokens'], n_hidden=checkpoint['n_hidden'], n_layers=checkpoint['n_layers'])\n",
        "loaded.load_state_dict(checkpoint['state_dict'])"
      ],
      "execution_count": 24,
      "outputs": [
        {
          "output_type": "execute_result",
          "data": {
            "text/plain": [
              "IncompatibleKeys(missing_keys=[], unexpected_keys=[])"
            ]
          },
          "metadata": {
            "tags": []
          },
          "execution_count": 24
        }
      ]
    },
    {
      "cell_type": "code",
      "metadata": {
        "id": "arl97afysFF2",
        "colab_type": "code",
        "colab": {
          "base_uri": "https://localhost:8080/",
          "height": 870
        },
        "outputId": "8cd780c1-9259-491f-94a7-b1c50a2f17ec"
      },
      "source": [
        "# Sample using a loaded model\n",
        "print(sample(loaded, 2000, top_k=5, prime=\"And Levin said\"))"
      ],
      "execution_count": 25,
      "outputs": [
        {
          "output_type": "stream",
          "text": [
            "And Levin said that it was not\n",
            "and take it, and she was a listening to straight him as all this, and shook his wand.\"\n",
            "\n",
            "\"Why do you\n",
            "suppose I want? There are yourself all that is the cert on the misfortune, and so that you don't like the\n",
            "conversation is to speak able to here about you.\"\n",
            "\n",
            "\"It's the master's\n",
            "consideration.\"\n",
            "\n",
            "She was not the sister of a personage to\n",
            "her. He was sincere for the side.\n",
            "\n",
            "\n",
            "\n",
            "Chapter 29\n",
            "\n",
            "\n",
            "To be so language, and she found it, he came to\n",
            "his hat. And he had stepping her a shreak that was a contrance.\n",
            "\n",
            "\"What do you deair with\n",
            "made it is! What are they've a considering to him? I don't see, this\n",
            "service.\"\n",
            "\n",
            "\"Oh, I did not know the complete. It is till you have to be difficult. It seems of itself--at the\n",
            "thick steps, the\n",
            "princess,\" he said, smiling, as he had not the told her so so as soon as\n",
            "it was a feeling of tears and tooker at him with their secret felloom that should say the peasants were as alone. And\n",
            "all she was the picture, and to\n",
            "say than to have\n",
            "her. At the most\n",
            "that something that he had not askance, he would be deledded telling him and was not\n",
            "between them. So that she did not know what. As some of this constence of the\n",
            "party to the starious of the measher of\n",
            "the second one of the most opening an officear that he had tryeted and close to be doing all at\n",
            "the pathers. And she had been a chaig of\n",
            "to meet him, he sheld, so told him,\n",
            "he could not\n",
            "stay, and had been starting it able ore of the\n",
            "fresh of the feash of a matter and so at his son, turned up at the back of and tight of hards with his\n",
            "head.\n",
            " \"What did you do be day for as something made the minute through the\n",
            "time I don't say that I'll say what's however you're, and I colse our children. I'r a carriage, and so always to speak, and says the thing, that he's not at the thing is a sout, of\n",
            "what I should have to grase a mill of many to the most and or to make her him.\"\n",
            "\n",
            "\"Ah, I can talk of me?\"\n",
            "\n",
            "\"Oh, you do be the same time your husband! I shall see the time. Women? What do I shall do it!?...\" He said, \n"
          ],
          "name": "stdout"
        }
      ]
    },
    {
      "cell_type": "code",
      "metadata": {
        "id": "e36FeHO0sFF5",
        "colab_type": "code",
        "colab": {}
      },
      "source": [
        ""
      ],
      "execution_count": 0,
      "outputs": []
    }
  ]
}